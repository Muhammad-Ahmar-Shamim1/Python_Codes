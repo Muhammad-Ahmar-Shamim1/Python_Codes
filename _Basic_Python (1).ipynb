{
 "cells": [
  {
   "cell_type": "code",
   "execution_count": 2,
   "id": "f775ccab-e463-42de-9388-743276ee3a9f",
   "metadata": {},
   "outputs": [
    {
     "name": "stdout",
     "output_type": "stream",
     "text": [
      "Hello_World\n"
     ]
    }
   ],
   "source": [
    "print(\"Hello_World\")"
   ]
  },
  {
   "cell_type": "code",
   "execution_count": 4,
   "id": "be0da2a1-f1e0-45c9-a3d6-d15ddcb8e736",
   "metadata": {},
   "outputs": [
    {
     "name": "stdout",
     "output_type": "stream",
     "text": [
      "10 20\n"
     ]
    }
   ],
   "source": [
    "a = 10\n",
    "b = 20\n",
    "\n",
    "print(a,b)"
   ]
  },
  {
   "cell_type": "code",
   "execution_count": 6,
   "id": "e39ef68d-3db5-45a5-bd7b-715eb2da35a0",
   "metadata": {},
   "outputs": [
    {
     "name": "stdout",
     "output_type": "stream",
     "text": [
      "42\n"
     ]
    }
   ],
   "source": [
    "a = 12\n",
    "b = 30\n",
    "print(a+b)"
   ]
  },
  {
   "cell_type": "code",
   "execution_count": 10,
   "id": "c9168b82-bb05-4ea4-b3bb-e36c8afe2799",
   "metadata": {},
   "outputs": [
    {
     "name": "stdout",
     "output_type": "stream",
     "text": [
      "['apple', 'Cherry', 'Banana', 'Peach']\n"
     ]
    },
    {
     "data": {
      "text/plain": [
       "list"
      ]
     },
     "execution_count": 10,
     "metadata": {},
     "output_type": "execute_result"
    }
   ],
   "source": [
    "list=[\"apple\",\"Cherry\",\"Banana\",\"Peach\"]\n",
    "print(list)\n",
    "type(list)"
   ]
  },
  {
   "cell_type": "code",
   "execution_count": 12,
   "id": "fbf3cb7b-e7ad-4500-9c31-c4ec64329ea5",
   "metadata": {},
   "outputs": [
    {
     "name": "stdout",
     "output_type": "stream",
     "text": [
      "['apple', 'Cherry', 'Banana', 'Peach', 'sum']\n"
     ]
    }
   ],
   "source": [
    "list.append(\"sum\")\n",
    "print(list)"
   ]
  },
  {
   "cell_type": "code",
   "execution_count": 3,
   "id": "60191fe4-158b-4dfe-8806-e22e821a996c",
   "metadata": {},
   "outputs": [
    {
     "name": "stdout",
     "output_type": "stream",
     "text": [
      "8\n",
      "2\n",
      "15\n",
      "1.6666666666666667\n",
      "2\n"
     ]
    }
   ],
   "source": [
    "a = 5\n",
    "b = 3\n",
    "\n",
    "print(a+b)\n",
    "print(a-b)\n",
    "print(a*b)\n",
    "print(a/b)\n",
    "print(a%b)\n"
   ]
  },
  {
   "cell_type": "code",
   "execution_count": 5,
   "id": "fab1c7cb-fd4a-4599-8f4e-cadf0a390755",
   "metadata": {},
   "outputs": [
    {
     "name": "stdout",
     "output_type": "stream",
     "text": [
      "x is less than 10\n"
     ]
    }
   ],
   "source": [
    "x = 5\n",
    "if x > 10:\n",
    "    print(\"x is Greater than 10\")\n",
    "else:\n",
    "    print(\"x is less than 10\")"
   ]
  },
  {
   "cell_type": "code",
   "execution_count": 11,
   "id": "89f21243-2955-497e-a104-79635d249f9a",
   "metadata": {},
   "outputs": [
    {
     "name": "stdout",
     "output_type": "stream",
     "text": [
      "apple\n",
      "Banana\n",
      "Apple\n",
      "cheery\n"
     ]
    }
   ],
   "source": [
    "fruits =[\"apple\",\"Banana\",\"Apple\",\"cheery\"]\n",
    "for fruit in fruits:\n",
    "    print(fruit)"
   ]
  },
  {
   "cell_type": "code",
   "execution_count": 23,
   "id": "8d69339c-a2bd-47c7-a2c2-dee862766a42",
   "metadata": {},
   "outputs": [
    {
     "name": "stdout",
     "output_type": "stream",
     "text": [
      "Hello  AhmarHow are you\n"
     ]
    }
   ],
   "source": [
    "def hi(name):\n",
    "    print(\"Hello\"+ \" \" +\" \"+name +\"How are you\")\n",
    "hi(\"Ahmar\")    "
   ]
  },
  {
   "cell_type": "code",
   "execution_count": 25,
   "id": "81d8b1f4-357b-49e5-ac28-c7957e1127d5",
   "metadata": {},
   "outputs": [
    {
     "name": "stdout",
     "output_type": "stream",
     "text": [
      "[1, 2, 3, 4, 5]\n"
     ]
    }
   ],
   "source": [
    "numbers =[1,2,3,4,5]\n",
    "print(numbers)"
   ]
  },
  {
   "cell_type": "code",
   "execution_count": 27,
   "id": "b2271469-6708-48d0-91d4-a7d6f6d973f9",
   "metadata": {},
   "outputs": [
    {
     "name": "stdout",
     "output_type": "stream",
     "text": [
      "4\n"
     ]
    }
   ],
   "source": [
    "print(numbers[3])"
   ]
  },
  {
   "cell_type": "code",
   "execution_count": 29,
   "id": "a5e684c4-8954-4baa-882f-b6d2e910231d",
   "metadata": {},
   "outputs": [
    {
     "name": "stdout",
     "output_type": "stream",
     "text": [
      "None\n",
      "[1, 2, 3, 4, 5, 6]\n"
     ]
    }
   ],
   "source": [
    "print(numbers.append(6))\n",
    "print(numbers)"
   ]
  },
  {
   "cell_type": "code",
   "execution_count": 33,
   "id": "34ceb0d3-be1d-4289-82af-726b65868554",
   "metadata": {},
   "outputs": [
    {
     "name": "stdout",
     "output_type": "stream",
     "text": [
      "None\n",
      "[1, 3, 4, 5]\n"
     ]
    }
   ],
   "source": [
    "print(numbers.remove(2))\n",
    "print(numbers)"
   ]
  },
  {
   "cell_type": "code",
   "execution_count": 37,
   "id": "b60c53a9-8130-4d4b-bed4-17b4059ba1b8",
   "metadata": {},
   "outputs": [
    {
     "name": "stdout",
     "output_type": "stream",
     "text": [
      "AHMAR\n",
      "ahmar\n"
     ]
    }
   ],
   "source": [
    "name = \"Ahmar\"\n",
    "print(name.upper())\n",
    "print(name.lower())"
   ]
  },
  {
   "cell_type": "code",
   "execution_count": 39,
   "id": "a015182a-2d75-4e7d-b6fb-65959b5b9516",
   "metadata": {},
   "outputs": [
    {
     "name": "stdout",
     "output_type": "stream",
     "text": [
      "{'name': 'Ahmar', 'Age': '22'}\n"
     ]
    }
   ],
   "source": [
    "person ={\"name\":\"Ahmar\",\"Age\":\"22\"}\n",
    "print(person)"
   ]
  },
  {
   "cell_type": "code",
   "execution_count": 41,
   "id": "034ee185-3314-431e-a3aa-fb81cc7504f0",
   "metadata": {},
   "outputs": [
    {
     "name": "stdout",
     "output_type": "stream",
     "text": [
      "{'name': 'Tayyab', 'Age': '22'}\n"
     ]
    }
   ],
   "source": [
    "person[\"name\"] =\"Tayyab\"\n",
    "print(person)"
   ]
  },
  {
   "cell_type": "code",
   "execution_count": 47,
   "id": "1d30941b-27ba-47e7-bc9c-851b7e9cd27e",
   "metadata": {},
   "outputs": [
    {
     "name": "stdout",
     "output_type": "stream",
     "text": [
      "{4, 5, 6, 7, 8, 9}\n",
      "{7}\n",
      "{4, 5, 6}\n"
     ]
    }
   ],
   "source": [
    "B = {4,5,6,7}\n",
    "C = {7,8,9,7}\n",
    "\n",
    "print(B.union(C))\n",
    "print(B.intersection(C))\n",
    "print(B.difference(C))"
   ]
  },
  {
   "cell_type": "code",
   "execution_count": null,
   "id": "5e4ae643-f5cd-410a-a96e-f90c7324b868",
   "metadata": {},
   "outputs": [],
   "source": []
  }
 ],
 "metadata": {
  "kernelspec": {
   "display_name": "Python 3 (ipykernel)",
   "language": "python",
   "name": "python3"
  },
  "language_info": {
   "codemirror_mode": {
    "name": "ipython",
    "version": 3
   },
   "file_extension": ".py",
   "mimetype": "text/x-python",
   "name": "python",
   "nbconvert_exporter": "python",
   "pygments_lexer": "ipython3",
   "version": "3.12.7"
  }
 },
 "nbformat": 4,
 "nbformat_minor": 5
}
